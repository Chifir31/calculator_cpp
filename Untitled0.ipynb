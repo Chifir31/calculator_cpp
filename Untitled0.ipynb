{
  "nbformat": 4,
  "nbformat_minor": 0,
  "metadata": {
    "colab": {
      "name": "Untitled0.ipynb",
      "provenance": [],
      "collapsed_sections": [],
      "authorship_tag": "ABX9TyPooibAMjiBKJ6TJW/q69nw",
      "include_colab_link": true
    },
    "kernelspec": {
      "name": "python3",
      "display_name": "Python 3"
    },
    "language_info": {
      "name": "python"
    }
  },
  "cells": [
    {
      "cell_type": "markdown",
      "metadata": {
        "id": "view-in-github",
        "colab_type": "text"
      },
      "source": [
        "<a href=\"https://colab.research.google.com/github/Chifir31/poject_calculator/blob/main/Untitled0.ipynb\" target=\"_parent\"><img src=\"https://colab.research.google.com/assets/colab-badge.svg\" alt=\"Open In Colab\"/></a>"
      ]
    },
    {
      "cell_type": "markdown",
      "source": [
        "1. https://lazurit.com/catalog/s-pruzhinnym-blokom/matras-fabian-160x200/"
      ],
      "metadata": {
        "id": "cX74mWE_t4tG"
      }
    },
    {
      "cell_type": "markdown",
      "source": [
        "**Цена 24 635 ₽\n",
        "(дата обращения 24.0.2022)**"
      ],
      "metadata": {
        "id": "aVMLJNX_t9xS"
      }
    },
    {
      "cell_type": "markdown",
      "source": [
        "**Сводка**\n",
        "- Оптимальным вариант для людей с проблемами в **грудном отделе позвоночника**.\n",
        "- Высота 20 см.\n",
        "- Max нагрузка на 1 спальное место - 110 кг.\n",
        "- Независимый пружинный блок\n",
        "- Средняя жесткость"
      ],
      "metadata": {
        "id": "CcBZzq6ZuRly"
      }
    },
    {
      "cell_type": "markdown",
      "source": [
        "____________________________________________________________\n"
      ],
      "metadata": {
        "id": "-aZPeynL7z0_"
      }
    },
    {
      "cell_type": "markdown",
      "source": [
        "2. https://www.shatura.com/goods/groups/matrasy_odeyala_podushki/805654/"
      ],
      "metadata": {
        "id": "JIYcFfzF0qe3"
      }
    },
    {
      "cell_type": "markdown",
      "source": [
        "**Цена 23 820 ₽**"
      ],
      "metadata": {
        "id": "swtUhSv41FFi"
      }
    },
    {
      "cell_type": "markdown",
      "source": [
        ""
      ],
      "metadata": {
        "id": "qEJf4VeP78Vc"
      }
    },
    {
      "cell_type": "markdown",
      "source": [
        "**Сводка**\n",
        "- Двусторонний (мягкий/средний)\n",
        "- Мах нагрузка на 1 спальное место 110 кг.\n",
        "- Высота 20 см.\n",
        "- Подойдет людям с проблемами в позвоночнике "
      ],
      "metadata": {
        "id": "he-5jxBY1RWH"
      }
    },
    {
      "cell_type": "markdown",
      "source": [
        "__________________________________________________________________________________"
      ],
      "metadata": {
        "id": "bEuyq8gW76c9"
      }
    },
    {
      "cell_type": "markdown",
      "source": [
        "3. https://www.shatura.com/goods/groups/matrasy_odeyala_podushki/359358/"
      ],
      "metadata": {
        "id": "4vsPz0aT6b26"
      }
    },
    {
      "cell_type": "markdown",
      "source": [
        "**Цена 26 880 Р**"
      ],
      "metadata": {
        "id": "rElLysPD6kL0"
      }
    },
    {
      "cell_type": "markdown",
      "source": [
        "**Сводка**\n",
        "- Нагрузка на спальное место - до 110 кг.\n",
        "- Двусторонний (мягкий/средний)\n",
        "- Сезонный (зима/лето) \n",
        "- Натуральный наполнитель (кокосовая койра, латекс)\n",
        "- Высота 21 см.\n",
        "\n",
        "* вес матраса 43.5 кг :))"
      ],
      "metadata": {
        "id": "33xrxeWh6kP9"
      }
    },
    {
      "cell_type": "markdown",
      "source": [
        "__________________________________________________________________________________"
      ],
      "metadata": {
        "id": "Ped4xNFO7_CD"
      }
    },
    {
      "cell_type": "markdown",
      "source": [
        "3. https://www.shatura.com/goods/groups/matrasy_odeyala_podushki/359352/"
      ],
      "metadata": {
        "id": "VVIoxQHG8Bbt"
      }
    },
    {
      "cell_type": "markdown",
      "source": [
        "**Цена 21 640 Р**"
      ],
      "metadata": {
        "id": "ulvzXVsS8Ils"
      }
    },
    {
      "cell_type": "markdown",
      "source": [
        "**Сводка**\n",
        "- Нагрузка на спальное место - до 110 кг.\n",
        "- Жесткость матраса - средний\n",
        "- Высота 18 см."
      ],
      "metadata": {
        "id": "Bg_Re-6v8QRk"
      }
    }
  ]
}